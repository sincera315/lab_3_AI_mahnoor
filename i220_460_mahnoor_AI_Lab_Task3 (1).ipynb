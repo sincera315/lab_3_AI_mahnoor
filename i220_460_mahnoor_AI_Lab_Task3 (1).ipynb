{
 "cells": [
  {
   "cell_type": "markdown",
   "metadata": {
    "id": "yZUfT3i7CjcU"
   },
   "source": [
    "# Lab Task 01"
   ]
  },
  {
   "cell_type": "markdown",
   "metadata": {
    "id": "cFvXKV7FCd5E"
   },
   "source": [
    "Write a function to return True if the first and last number of a given list is same. If numbers are different then return False."
   ]
  },
  {
   "cell_type": "code",
   "execution_count": 10,
   "metadata": {
    "id": "GXktR4r5Coyi"
   },
   "outputs": [
    {
     "name": "stdout",
     "output_type": "stream",
     "text": [
      "Check if first list has same first and last numbers\n",
      "\n",
      "True\n",
      "Check if first list has same first and last numbers\n",
      "\n"
     ]
    },
    {
     "data": {
      "text/plain": [
       "False"
      ]
     },
     "execution_count": 10,
     "metadata": {},
     "output_type": "execute_result"
    }
   ],
   "source": [
    "def check(numbers_x):\n",
    "    if (numbers_x[0]== numbers_x[-1]):\n",
    "        return True\n",
    "    else: \n",
    "        return False\n",
    "# Given:\n",
    "numbers_x = [10, 20, 30, 40, 10]\n",
    "numbers_y = [75, 65, 35, 75, 30]\n",
    "print(\"Check if first list has same first and last numbers\\n\")\n",
    "print(check(numbers_x))\n",
    "print(\"Check if first list has same first and last numbers\\n\")\n",
    "check(numbers_y)\n",
    "\n",
    "# Expected Output:\n",
    "# Given list: [10, 20, 30, 40, 10]\n",
    "# result is True\n",
    "\n",
    "# numbers_y = [75, 65, 35, 75, 30]\n",
    "# result is False"
   ]
  },
  {
   "cell_type": "markdown",
   "metadata": {
    "id": "UwFZ7OjICrlQ"
   },
   "source": [
    "\n",
    "\n",
    "\n",
    "\n",
    "# Lab Task 02"
   ]
  },
  {
   "cell_type": "markdown",
   "metadata": {
    "id": "GWQ2AhPcCufC"
   },
   "source": [
    "Create two NumPy arrays of the same shape and perform element-wise addition on them.\n",
    "\n",
    "Calculate the element-wise product of two NumPy arrays."
   ]
  },
  {
   "cell_type": "code",
   "execution_count": 12,
   "metadata": {
    "id": "jZNfvManCxjQ"
   },
   "outputs": [
    {
     "name": "stdout",
     "output_type": "stream",
     "text": [
      "The result of element wise addition is as follows: [ 6  6  6 16  8]\n",
      "The result of element wise multiplication is as follows:  [ 5  8  9 63  0]\n"
     ]
    }
   ],
   "source": [
    "import numpy as np\n",
    "a = np.array([1,2,3,7,8])\n",
    "b = np.array([5,4,3,9,0])\n",
    "# for addition\n",
    "x=a+b \n",
    "print(\"The result of element wise addition is as follows:\",x)\n",
    "# for multiplication.\n",
    "y = a*b\n",
    "print(\"The result of element wise multiplication is as follows: \",y)"
   ]
  },
  {
   "cell_type": "markdown",
   "metadata": {
    "id": "DR3RvooloecS"
   },
   "source": [
    "# Lab Task 03"
   ]
  },
  {
   "cell_type": "markdown",
   "metadata": {
    "id": "Oi-yFvItoWzc"
   },
   "source": [
    "Reshape a 1D NumPy array into a 2D array with dimensions (3, 4).\n",
    "\n",
    "Concatenate two NumPy arrays horizontally and vertically."
   ]
  },
  {
   "cell_type": "code",
   "execution_count": 22,
   "metadata": {
    "id": "c379PMYOobDK"
   },
   "outputs": [
    {
     "name": "stdout",
     "output_type": "stream",
     "text": [
      "The reshaped array is as follows: [[ 1  2  3  7]\n",
      " [ 8  0  9  5]\n",
      " [ 6 12 13 14]]\n",
      "concatenating it using vertically\n",
      "[[1 2 3]\n",
      " [4 5 6]\n",
      " [4 5 6]\n",
      " [4 5 6]]\n",
      "concatenating it using horizontally\n",
      "[[1 2 3 4 5 6]\n",
      " [4 5 6 4 5 6]]\n"
     ]
    }
   ],
   "source": [
    "a = np.array([1,2,3,7,8,0,9,5,6,12,13,14])\n",
    "# using reshape to create dimensions:\n",
    "print(\"The reshaped array is as follows:\",a.reshape(3,4))\n",
    "# basically i created a scalar and multiplied it with array a\n",
    "x = np.array([[1, 2, 3], [4, 5, 6]])\n",
    "y =np.array([[4,5,6],[4,5,6]])\n",
    "# for vertically\n",
    "print(\"concatenating it using vertically\")\n",
    "c = np.concatenate((x,y), axis= 0)\n",
    "print(c)\n",
    "print(\"concatenating it using horizontally\")\n",
    "d = np.concatenate((x,y), axis= 1)\n",
    "print(d)\n"
   ]
  },
  {
   "cell_type": "markdown",
   "metadata": {
    "id": "QyAHL3cppQvA"
   },
   "source": [
    "# Lab Task 04\n",
    "\n"
   ]
  },
  {
   "cell_type": "markdown",
   "metadata": {
    "id": "n9ljQa5NopJD"
   },
   "source": [
    "\n",
    "## Online Store Shopping Cart\n",
    "Write a Python program to simulate the online store's shopping cart system. The program should use a while loop to provide an interactive shopping experience.\n",
    "\n",
    "\n",
    "### Tasks:\n",
    "* Initialize an empty list called shopping_cart to store items.\n",
    "* Display a welcome message and available products.\n",
    "* Loop should be iterating over AI Response Simulator and Investment decision and keep asking for user input.\n",
    "* Prompt the user to enter the number corresponding to the product they want to add to the cart.\n",
    "* Check if the user entered 'q'. If so, break the loop.\n",
    "* Convert the choice to an integer and validate it within the valid range (1 to 3).\n",
    "* Based on the user's choice, add the selected product to the shopping_cart list.\n",
    "* Display a confirmation message indicating the added product.\n",
    "* Continue the loop to allow the user to add more products or proceed to checkout.\n",
    "* After the loop ends, display the contents of the shopping cart.\n",
    "* Display a goodbye message.\n",
    "* End the program.\n"
   ]
  },
  {
   "cell_type": "code",
   "execution_count": 42,
   "metadata": {
    "id": "9huwf9wVpWFf"
   },
   "outputs": [
    {
     "name": "stdout",
     "output_type": "stream",
     "text": [
      "Welcome valuable customer we welcome you to our all get anime and manga store.(^.^)\n",
      ". What would you like to get?\n",
      ". We have:\n",
      " 1)_mashle magic and muscles(MMAM) manga all 3 volumes\n",
      " 2)_Demon Slayer(DS) all 8 volumes\n",
      " 3)_solo leveling(SL).\n",
      " 4)_case study of vanitas(CSV)\n",
      " \n",
      "Enter q to quit the program and enter y to continue shopping\n",
      "Enter the letter according to your choice:y\n",
      "Enter any one of the following using the numbers assigned to them wish you happy shopping.1\n",
      "---------- You have selected  MMAM  for  buying its price is:  1500  ----------\n",
      "\n",
      "****The product has been added to the cart****\n",
      "-----------------------------------------------\n",
      "Enter q to quit the program and enter y to continue shopping\n",
      "Enter the letter according to your choice:y\n",
      "Enter any one of the following using the numbers assigned to them wish you happy shopping.3\n",
      "---------- You have selected  SL  for  buying its price is:  4000  ----------\n",
      "\n",
      "****The product has been added to the cart****\n",
      "-----------------------------------------------\n",
      "Enter q to quit the program and enter y to continue shopping\n",
      "Enter the letter according to your choice:q\n",
      "------------------------------------------------\n",
      "You have the following list:  ['MMAM', 1500, 'SL', 4000]\n",
      "Dear customer it was an amazing experience to work with you i hope to see you again soon (*.*), good bye\n"
     ]
    }
   ],
   "source": [
    "# Initialize an empty list called shopping_cart to store items.\n",
    "shopping_cart=[]\n",
    "# Display a welcome message and available products.\n",
    "print(\"Welcome valuable customer we welcome you to our all get anime and manga store.(^.^)\\n. What would you like to get?\\n. We have:\\n 1)_mashle magic and muscles(MMAM) manga all 3 volumes\\n 2)_Demon Slayer(DS) all 8 volumes\\n 3)_solo leveling(SL).\\n 4)_case study of vanitas(CSV)\\n \")\n",
    "# now creating the dictionary which will be used.\n",
    "a= {\n",
    "    'MMAM': 1500,\n",
    "    'DS': 3000,\n",
    "    'SL': 4000,\n",
    "    'CSV':9000\n",
    "}\n",
    "#  now we intend to make sure that the user can access the following amounts using the index values only.\n",
    "print(\"Enter q to quit the program and enter y to continue shopping\")\n",
    "s = str(input(\"Enter the letter according to your choice:\"))\n",
    "while(s!='q'):\n",
    "    x= int(input(\"Enter any one of the following using the numbers assigned to them wish you happy shopping.\"))\n",
    "    value= list(a.values())[(x-1)]\n",
    "    key = list(a)[(x-1)]\n",
    "    print(\"---------- You have selected \",key,\" for  buying its price is: \",value,\" ----------\\n\")\n",
    "    shopping_cart.append(key)\n",
    "    shopping_cart.append(value)\n",
    "    print(\"****The product has been added to the cart****\")\n",
    "    print(\"-----------------------------------------------\")\n",
    "    print(\"Enter q to quit the program and enter y to continue shopping\")\n",
    "    s = str(input(\"Enter the letter according to your choice:\"))\n",
    "print(\"------------------------------------------------\")\n",
    "print(\"You have the following list: \",shopping_cart)\n",
    "print(\"Dear customer it was an amazing experience to work with you i hope to see you again soon (*.*), good bye\")"
   ]
  },
  {
   "cell_type": "markdown",
   "metadata": {
    "id": "Dv9DtQ3jp6mq"
   },
   "source": [
    "# Lab Task 05"
   ]
  },
  {
   "cell_type": "markdown",
   "metadata": {
    "id": "2i6-zm_1ZAdn"
   },
   "source": [
    "\n",
    "## Email Classification\n",
    "Develope a tool which will classify an email.\n",
    "\n",
    "### Tasks:\n",
    "* Create a function classify_emails that takes a list of emails as an argument.\n",
    "* Inside the function, categorize emails into \"Important,\" \"Promotions,\" and \"Spam\" based on keywords and content analysis.\n",
    "* Loop through the emails and identify keywords to determine their category.\n",
    "* If an email contains keywords indicating importance, assign it as \"Important.\"\n",
    "* If an email contains keywords related to promotions or deals, assign it as \"Promotions.\"\n",
    "* If an email is suspected to be spam based on certain keywords or patterns, assign it as \"Spam.\"\n",
    "* Return three lists of emails for each category.\n",
    "* Print the lists."
   ]
  },
  {
   "cell_type": "code",
   "execution_count": 49,
   "metadata": {
    "id": "SnCGPkq-o84Z"
   },
   "outputs": [
    {
     "name": "stdout",
     "output_type": "stream",
     "text": [
      ". The important emails are: ['Urgent! return to meeting the client wants a change in the product', 'Important remainder last day for assignment'] \n",
      "\n",
      ". The promotion emails are: ['Sale 25 % off on the specific book speacial offer on speacial occassions', ' Heavy Discount on the course just for you '] \n",
      "\n",
      ". The spam emails are: ['Verify that its your account active on device XXX', 'Verify your new number and update your information on your google account'] \n",
      "\n"
     ]
    }
   ],
   "source": [
    "def classify_emails(emails):\n",
    "    # these are some keywords which are specifically in these emails \n",
    "    important_keys=[\"urgent\", \"important\",\"remainder\"]\n",
    "    promotion_keys=[\"sale\", \"discount\", \"speacial\"]\n",
    "    spam_keys=[\"update\", \"verify\", \"confirm\", \"unable\"]\n",
    "    # these are the lists for the emails\n",
    "    important_email=[]\n",
    "    promotion_email=[]\n",
    "    spam_email=[]\n",
    "    for i in emails:\n",
    "        if any(keyword in i.lower() for keyword in important_keys):\n",
    "            important_email.append(i)\n",
    "        elif any(keyword in i.lower() for keyword in promotion_keys):\n",
    "            promotion_email.append(i)\n",
    "        elif any(keyword in i.lower() for keyword in spam_keys):\n",
    "            spam_email.append(i)\n",
    "    return important_email,promotion_email,spam_email\n",
    "        \n",
    "            \n",
    "# now the list of emails:\n",
    "emails = [\"Urgent! return to meeting the client wants a change in the product\",\"Sale 25 % off on the specific book speacial offer on speacial occassions\",\"Verify that its your account active on device XXX\",\"Important remainder last day for assignment\", \" Heavy Discount on the course just for you \",\"Verify your new number and update your information on your google account\"]\n",
    "important_email,promotion_email,spam_email =classify_emails(emails)\n",
    "print(\". The important emails are:\",important_email,\"\\n\" )\n",
    "print(\". The promotion emails are:\",promotion_email,\"\\n\" )\n",
    "print(\". The spam emails are:\",spam_email,\"\\n\" )\n",
    "\n"
   ]
  },
  {
   "cell_type": "markdown",
   "metadata": {
    "id": "amtV-GLWpCC7"
   },
   "source": [
    "# Lab Task 06"
   ]
  },
  {
   "cell_type": "markdown",
   "metadata": {
    "id": "M2Zg-XsUpC72"
   },
   "source": [
    "## English-Spanish Dictionary\n",
    "You are creating a basic English-Spanish dictionary that allows users to look up English words and find their Spanish translations.\n",
    "\n",
    "\n",
    "### Tasks\n",
    "* Create a dictionary where English words are keys and their Spanish translations are values.\n",
    "* Ask the user to input an English word.\n",
    "* Check if the word exists in the dictionary.\n",
    "* If the word exists, print its Spanish translation.\n",
    "* If the word does not exist, inform the user that the translation is not available.\n",
    "* Implement a loop that allows the user to keep looking up words until they choose to exit.\n"
   ]
  },
  {
   "cell_type": "code",
   "execution_count": 60,
   "metadata": {
    "id": "7RKtYbMZpJdh"
   },
   "outputs": [
    {
     "name": "stdout",
     "output_type": "stream",
     "text": [
      "Enter e to quit the program and enter y to continue looking\n",
      "Enter the letter according to your choice:y\n",
      "-----------------------------------------------\n",
      ". Enter any English word of your choice:\n",
      " hello\n",
      "***The Spanish translation for this  hello  is:  ola ***\n",
      "-----------------------------------------------\n",
      "Enter q to quit the program and enter y to continue shopping\n",
      "Enter the letter according to your choice:e\n"
     ]
    }
   ],
   "source": [
    "dictionary= {\"hello\": \"ola\", \"friends\":\"amigos\", \"thank you\": \"gracias\", \"mister\": \"senior\", \"delicous\":\"delicioso\",\"I am\":\"soi\"}\n",
    "print(\"Enter e to quit the program and enter y to continue looking\")\n",
    "s = str(input(\"Enter the letter according to your choice:\"))\n",
    "print(\"-----------------------------------------------\")\n",
    "a = str(input(\". Enter any English word of your choice:\\n \"))\n",
    "while(s!='e'):\n",
    "    if (a in dictionary):\n",
    "        print(\"***The Spanish translation for this \",a ,\" is: \", dictionary[a],\"***\")\n",
    "        print(\"-----------------------------------------------\")\n",
    "\n",
    "    elif (a not in  dictionary):\n",
    "        print(\"***The translation for this word is not available do try again later.***\")\n",
    "    print(\"Enter e to quit the program and enter y to continue shopping\")\n",
    "    s = str(input(\"Enter the letter according to your choice:\"))\n",
    "        \n",
    "\n",
    "    \n",
    "            "
   ]
  },
  {
   "cell_type": "markdown",
   "metadata": {
    "id": "h_8wOMWitspv"
   },
   "source": [
    "# Lab Task 07"
   ]
  },
  {
   "cell_type": "markdown",
   "metadata": {
    "id": "Qq4VH1Jkts32"
   },
   "source": [
    "dataset link : https://raw.githubusercontent.com/TirendazAcademy/PANDAS-TUTORIAL/main/DataSets/vgsalesGlobale.csv\n",
    "#Exercise\n",
    "Use the dataset of Game, we have explored earlier and perform following operations.\n",
    "\n",
    "* Calculate the total global sales for all games in the dataset.\n",
    "* Find the game with the highest global sales.\n",
    "* Determine the average sales for each region (NA_Sales, EU_Sales, JP_Sales, Other_Sales).\n",
    "* Find the top 5 most popular game genres based on global sales.\n",
    "* Calculate the total sales for each genre in each region and find the most popular genre in North America (NA_Sales).\n",
    "* Display last 10 rows.\n",
    "* Determine the top 3 gaming platforms with the highest global sales.\n",
    "* Calculate the market share (percentage of global sales) for each genre.\n",
    "* Calculate the correlation coefficient between NA_Sales and EU_Sales. (.corr function)"
   ]
  },
  {
   "cell_type": "code",
   "execution_count": 61,
   "metadata": {},
   "outputs": [
    {
     "data": {
      "text/html": [
       "<div>\n",
       "<style scoped>\n",
       "    .dataframe tbody tr th:only-of-type {\n",
       "        vertical-align: middle;\n",
       "    }\n",
       "\n",
       "    .dataframe tbody tr th {\n",
       "        vertical-align: top;\n",
       "    }\n",
       "\n",
       "    .dataframe thead th {\n",
       "        text-align: right;\n",
       "    }\n",
       "</style>\n",
       "<table border=\"1\" class=\"dataframe\">\n",
       "  <thead>\n",
       "    <tr style=\"text-align: right;\">\n",
       "      <th></th>\n",
       "      <th>Rank</th>\n",
       "      <th>Name</th>\n",
       "      <th>Platform</th>\n",
       "      <th>Year</th>\n",
       "      <th>Genre</th>\n",
       "      <th>Publisher</th>\n",
       "      <th>NA_Sales</th>\n",
       "      <th>EU_Sales</th>\n",
       "      <th>JP_Sales</th>\n",
       "      <th>Other_Sales</th>\n",
       "      <th>Global_Sales</th>\n",
       "    </tr>\n",
       "  </thead>\n",
       "  <tbody>\n",
       "    <tr>\n",
       "      <th>0</th>\n",
       "      <td>1</td>\n",
       "      <td>Wii Sports</td>\n",
       "      <td>Wii</td>\n",
       "      <td>2006.0</td>\n",
       "      <td>Sports</td>\n",
       "      <td>Nintendo</td>\n",
       "      <td>41.49</td>\n",
       "      <td>29.02</td>\n",
       "      <td>3.77</td>\n",
       "      <td>8.46</td>\n",
       "      <td>82.74</td>\n",
       "    </tr>\n",
       "    <tr>\n",
       "      <th>1</th>\n",
       "      <td>2</td>\n",
       "      <td>Super Mario Bros.</td>\n",
       "      <td>NES</td>\n",
       "      <td>1985.0</td>\n",
       "      <td>Platform</td>\n",
       "      <td>Nintendo</td>\n",
       "      <td>29.08</td>\n",
       "      <td>3.58</td>\n",
       "      <td>6.81</td>\n",
       "      <td>0.77</td>\n",
       "      <td>40.24</td>\n",
       "    </tr>\n",
       "    <tr>\n",
       "      <th>2</th>\n",
       "      <td>3</td>\n",
       "      <td>Mario Kart Wii</td>\n",
       "      <td>Wii</td>\n",
       "      <td>2008.0</td>\n",
       "      <td>Racing</td>\n",
       "      <td>Nintendo</td>\n",
       "      <td>15.85</td>\n",
       "      <td>12.88</td>\n",
       "      <td>3.79</td>\n",
       "      <td>3.31</td>\n",
       "      <td>35.82</td>\n",
       "    </tr>\n",
       "    <tr>\n",
       "      <th>3</th>\n",
       "      <td>4</td>\n",
       "      <td>Wii Sports Resort</td>\n",
       "      <td>Wii</td>\n",
       "      <td>2009.0</td>\n",
       "      <td>Sports</td>\n",
       "      <td>Nintendo</td>\n",
       "      <td>15.75</td>\n",
       "      <td>11.01</td>\n",
       "      <td>3.28</td>\n",
       "      <td>2.96</td>\n",
       "      <td>33.00</td>\n",
       "    </tr>\n",
       "    <tr>\n",
       "      <th>4</th>\n",
       "      <td>5</td>\n",
       "      <td>Pokemon Red/Pokemon Blue</td>\n",
       "      <td>GB</td>\n",
       "      <td>1996.0</td>\n",
       "      <td>Role-Playing</td>\n",
       "      <td>Nintendo</td>\n",
       "      <td>11.27</td>\n",
       "      <td>8.89</td>\n",
       "      <td>10.22</td>\n",
       "      <td>1.00</td>\n",
       "      <td>31.37</td>\n",
       "    </tr>\n",
       "    <tr>\n",
       "      <th>...</th>\n",
       "      <td>...</td>\n",
       "      <td>...</td>\n",
       "      <td>...</td>\n",
       "      <td>...</td>\n",
       "      <td>...</td>\n",
       "      <td>...</td>\n",
       "      <td>...</td>\n",
       "      <td>...</td>\n",
       "      <td>...</td>\n",
       "      <td>...</td>\n",
       "      <td>...</td>\n",
       "    </tr>\n",
       "    <tr>\n",
       "      <th>16593</th>\n",
       "      <td>16596</td>\n",
       "      <td>Woody Woodpecker in Crazy Castle 5</td>\n",
       "      <td>GBA</td>\n",
       "      <td>2002.0</td>\n",
       "      <td>Platform</td>\n",
       "      <td>Kemco</td>\n",
       "      <td>0.01</td>\n",
       "      <td>0.00</td>\n",
       "      <td>0.00</td>\n",
       "      <td>0.00</td>\n",
       "      <td>0.01</td>\n",
       "    </tr>\n",
       "    <tr>\n",
       "      <th>16594</th>\n",
       "      <td>16597</td>\n",
       "      <td>Men in Black II: Alien Escape</td>\n",
       "      <td>GC</td>\n",
       "      <td>2003.0</td>\n",
       "      <td>Shooter</td>\n",
       "      <td>Infogrames</td>\n",
       "      <td>0.01</td>\n",
       "      <td>0.00</td>\n",
       "      <td>0.00</td>\n",
       "      <td>0.00</td>\n",
       "      <td>0.01</td>\n",
       "    </tr>\n",
       "    <tr>\n",
       "      <th>16595</th>\n",
       "      <td>16598</td>\n",
       "      <td>SCORE International Baja 1000: The Official Game</td>\n",
       "      <td>PS2</td>\n",
       "      <td>2008.0</td>\n",
       "      <td>Racing</td>\n",
       "      <td>Activision</td>\n",
       "      <td>0.00</td>\n",
       "      <td>0.00</td>\n",
       "      <td>0.00</td>\n",
       "      <td>0.00</td>\n",
       "      <td>0.01</td>\n",
       "    </tr>\n",
       "    <tr>\n",
       "      <th>16596</th>\n",
       "      <td>16599</td>\n",
       "      <td>Know How 2</td>\n",
       "      <td>DS</td>\n",
       "      <td>2010.0</td>\n",
       "      <td>Puzzle</td>\n",
       "      <td>7G//AMES</td>\n",
       "      <td>0.00</td>\n",
       "      <td>0.01</td>\n",
       "      <td>0.00</td>\n",
       "      <td>0.00</td>\n",
       "      <td>0.01</td>\n",
       "    </tr>\n",
       "    <tr>\n",
       "      <th>16597</th>\n",
       "      <td>16600</td>\n",
       "      <td>Spirits &amp; Spells</td>\n",
       "      <td>GBA</td>\n",
       "      <td>2003.0</td>\n",
       "      <td>Platform</td>\n",
       "      <td>Wanadoo</td>\n",
       "      <td>0.01</td>\n",
       "      <td>0.00</td>\n",
       "      <td>0.00</td>\n",
       "      <td>0.00</td>\n",
       "      <td>0.01</td>\n",
       "    </tr>\n",
       "  </tbody>\n",
       "</table>\n",
       "<p>16598 rows × 11 columns</p>\n",
       "</div>"
      ],
      "text/plain": [
       "        Rank                                              Name Platform  \\\n",
       "0          1                                        Wii Sports      Wii   \n",
       "1          2                                 Super Mario Bros.      NES   \n",
       "2          3                                    Mario Kart Wii      Wii   \n",
       "3          4                                 Wii Sports Resort      Wii   \n",
       "4          5                          Pokemon Red/Pokemon Blue       GB   \n",
       "...      ...                                               ...      ...   \n",
       "16593  16596                Woody Woodpecker in Crazy Castle 5      GBA   \n",
       "16594  16597                     Men in Black II: Alien Escape       GC   \n",
       "16595  16598  SCORE International Baja 1000: The Official Game      PS2   \n",
       "16596  16599                                        Know How 2       DS   \n",
       "16597  16600                                  Spirits & Spells      GBA   \n",
       "\n",
       "         Year         Genre   Publisher  NA_Sales  EU_Sales  JP_Sales  \\\n",
       "0      2006.0        Sports    Nintendo     41.49     29.02      3.77   \n",
       "1      1985.0      Platform    Nintendo     29.08      3.58      6.81   \n",
       "2      2008.0        Racing    Nintendo     15.85     12.88      3.79   \n",
       "3      2009.0        Sports    Nintendo     15.75     11.01      3.28   \n",
       "4      1996.0  Role-Playing    Nintendo     11.27      8.89     10.22   \n",
       "...       ...           ...         ...       ...       ...       ...   \n",
       "16593  2002.0      Platform       Kemco      0.01      0.00      0.00   \n",
       "16594  2003.0       Shooter  Infogrames      0.01      0.00      0.00   \n",
       "16595  2008.0        Racing  Activision      0.00      0.00      0.00   \n",
       "16596  2010.0        Puzzle    7G//AMES      0.00      0.01      0.00   \n",
       "16597  2003.0      Platform     Wanadoo      0.01      0.00      0.00   \n",
       "\n",
       "       Other_Sales  Global_Sales  \n",
       "0             8.46         82.74  \n",
       "1             0.77         40.24  \n",
       "2             3.31         35.82  \n",
       "3             2.96         33.00  \n",
       "4             1.00         31.37  \n",
       "...            ...           ...  \n",
       "16593         0.00          0.01  \n",
       "16594         0.00          0.01  \n",
       "16595         0.00          0.01  \n",
       "16596         0.00          0.01  \n",
       "16597         0.00          0.01  \n",
       "\n",
       "[16598 rows x 11 columns]"
      ]
     },
     "execution_count": 61,
     "metadata": {},
     "output_type": "execute_result"
    }
   ],
   "source": [
    "import pandas as pd\n",
    "url =\"https://raw.githubusercontent.com/TirendazAcademy/PANDAS-TUTORIAL/main/DataSets/vgsalesGlobale.csv\"\n",
    "df = pd.read_csv(url,sep= \",\", encoding = \"utf-8\")\n",
    "df"
   ]
  },
  {
   "cell_type": "code",
   "execution_count": 62,
   "metadata": {},
   "outputs": [
    {
     "data": {
      "text/plain": [
       "8920.44"
      ]
     },
     "execution_count": 62,
     "metadata": {},
     "output_type": "execute_result"
    }
   ],
   "source": [
    "some = df[\"Global_Sales\"].sum()\n",
    "some"
   ]
  },
  {
   "cell_type": "code",
   "execution_count": 64,
   "metadata": {},
   "outputs": [
    {
     "data": {
      "text/plain": [
       "82.74"
      ]
     },
     "execution_count": 64,
     "metadata": {},
     "output_type": "execute_result"
    }
   ],
   "source": [
    "highest = df[\"Global_Sales\"].max()\n",
    "highest"
   ]
  },
  {
   "cell_type": "code",
   "execution_count": 65,
   "metadata": {},
   "outputs": [
    {
     "data": {
      "text/plain": [
       "0.26466742981082064"
      ]
     },
     "execution_count": 65,
     "metadata": {},
     "output_type": "execute_result"
    }
   ],
   "source": [
    "NA = df[\"NA_Sales\"].mean()\n",
    "NA"
   ]
  },
  {
   "cell_type": "code",
   "execution_count": 68,
   "metadata": {},
   "outputs": [
    {
     "data": {
      "text/plain": [
       "0.14665200626581515"
      ]
     },
     "execution_count": 68,
     "metadata": {},
     "output_type": "execute_result"
    }
   ],
   "source": [
    "EU = df[\"EU_Sales\"].mean()\n",
    "EU"
   ]
  },
  {
   "cell_type": "code",
   "execution_count": 67,
   "metadata": {},
   "outputs": [
    {
     "data": {
      "text/plain": [
       "0.077781660441017"
      ]
     },
     "execution_count": 67,
     "metadata": {},
     "output_type": "execute_result"
    }
   ],
   "source": [
    "JP = df[\"JP_Sales\"].mean()\n",
    "JP"
   ]
  },
  {
   "cell_type": "code",
   "execution_count": 66,
   "metadata": {},
   "outputs": [
    {
     "data": {
      "text/plain": [
       "0.0480630196409206"
      ]
     },
     "execution_count": 66,
     "metadata": {},
     "output_type": "execute_result"
    }
   ],
   "source": [
    "others= df[\"Other_Sales\"].mean()\n",
    "others"
   ]
  },
  {
   "cell_type": "code",
   "execution_count": 73,
   "metadata": {},
   "outputs": [
    {
     "data": {
      "text/html": [
       "<div>\n",
       "<style scoped>\n",
       "    .dataframe tbody tr th:only-of-type {\n",
       "        vertical-align: middle;\n",
       "    }\n",
       "\n",
       "    .dataframe tbody tr th {\n",
       "        vertical-align: top;\n",
       "    }\n",
       "\n",
       "    .dataframe thead th {\n",
       "        text-align: right;\n",
       "    }\n",
       "</style>\n",
       "<table border=\"1\" class=\"dataframe\">\n",
       "  <thead>\n",
       "    <tr style=\"text-align: right;\">\n",
       "      <th></th>\n",
       "      <th>Rank</th>\n",
       "      <th>Name</th>\n",
       "      <th>Platform</th>\n",
       "      <th>Year</th>\n",
       "      <th>Genre</th>\n",
       "      <th>Publisher</th>\n",
       "      <th>NA_Sales</th>\n",
       "      <th>EU_Sales</th>\n",
       "      <th>JP_Sales</th>\n",
       "      <th>Other_Sales</th>\n",
       "      <th>Global_Sales</th>\n",
       "    </tr>\n",
       "  </thead>\n",
       "  <tbody>\n",
       "    <tr>\n",
       "      <th>0</th>\n",
       "      <td>1</td>\n",
       "      <td>Wii Sports</td>\n",
       "      <td>Wii</td>\n",
       "      <td>2006.0</td>\n",
       "      <td>Sports</td>\n",
       "      <td>Nintendo</td>\n",
       "      <td>41.49</td>\n",
       "      <td>29.02</td>\n",
       "      <td>3.77</td>\n",
       "      <td>8.46</td>\n",
       "      <td>82.74</td>\n",
       "    </tr>\n",
       "    <tr>\n",
       "      <th>1</th>\n",
       "      <td>2</td>\n",
       "      <td>Super Mario Bros.</td>\n",
       "      <td>NES</td>\n",
       "      <td>1985.0</td>\n",
       "      <td>Platform</td>\n",
       "      <td>Nintendo</td>\n",
       "      <td>29.08</td>\n",
       "      <td>3.58</td>\n",
       "      <td>6.81</td>\n",
       "      <td>0.77</td>\n",
       "      <td>40.24</td>\n",
       "    </tr>\n",
       "    <tr>\n",
       "      <th>2</th>\n",
       "      <td>3</td>\n",
       "      <td>Mario Kart Wii</td>\n",
       "      <td>Wii</td>\n",
       "      <td>2008.0</td>\n",
       "      <td>Racing</td>\n",
       "      <td>Nintendo</td>\n",
       "      <td>15.85</td>\n",
       "      <td>12.88</td>\n",
       "      <td>3.79</td>\n",
       "      <td>3.31</td>\n",
       "      <td>35.82</td>\n",
       "    </tr>\n",
       "    <tr>\n",
       "      <th>3</th>\n",
       "      <td>4</td>\n",
       "      <td>Wii Sports Resort</td>\n",
       "      <td>Wii</td>\n",
       "      <td>2009.0</td>\n",
       "      <td>Sports</td>\n",
       "      <td>Nintendo</td>\n",
       "      <td>15.75</td>\n",
       "      <td>11.01</td>\n",
       "      <td>3.28</td>\n",
       "      <td>2.96</td>\n",
       "      <td>33.00</td>\n",
       "    </tr>\n",
       "    <tr>\n",
       "      <th>4</th>\n",
       "      <td>5</td>\n",
       "      <td>Pokemon Red/Pokemon Blue</td>\n",
       "      <td>GB</td>\n",
       "      <td>1996.0</td>\n",
       "      <td>Role-Playing</td>\n",
       "      <td>Nintendo</td>\n",
       "      <td>11.27</td>\n",
       "      <td>8.89</td>\n",
       "      <td>10.22</td>\n",
       "      <td>1.00</td>\n",
       "      <td>31.37</td>\n",
       "    </tr>\n",
       "  </tbody>\n",
       "</table>\n",
       "</div>"
      ],
      "text/plain": [
       "   Rank                      Name Platform    Year         Genre Publisher  \\\n",
       "0     1                Wii Sports      Wii  2006.0        Sports  Nintendo   \n",
       "1     2         Super Mario Bros.      NES  1985.0      Platform  Nintendo   \n",
       "2     3            Mario Kart Wii      Wii  2008.0        Racing  Nintendo   \n",
       "3     4         Wii Sports Resort      Wii  2009.0        Sports  Nintendo   \n",
       "4     5  Pokemon Red/Pokemon Blue       GB  1996.0  Role-Playing  Nintendo   \n",
       "\n",
       "   NA_Sales  EU_Sales  JP_Sales  Other_Sales  Global_Sales  \n",
       "0     41.49     29.02      3.77         8.46         82.74  \n",
       "1     29.08      3.58      6.81         0.77         40.24  \n",
       "2     15.85     12.88      3.79         3.31         35.82  \n",
       "3     15.75     11.01      3.28         2.96         33.00  \n",
       "4     11.27      8.89     10.22         1.00         31.37  "
      ]
     },
     "execution_count": 73,
     "metadata": {},
     "output_type": "execute_result"
    }
   ],
   "source": [
    "df.head()"
   ]
  },
  {
   "cell_type": "code",
   "execution_count": 75,
   "metadata": {},
   "outputs": [
    {
     "name": "stdout",
     "output_type": "stream",
     "text": [
      "4392.950000000001\n",
      "2434.1299999999997\n",
      "1291.0200000000002\n"
     ]
    }
   ],
   "source": [
    "NA = df[\"NA_Sales\"].sum()\n",
    "print(NA)\n",
    "EU = df[\"EU_Sales\"].sum()\n",
    "print(EU)\n",
    "JP = df[\"JP_Sales\"].sum()\n",
    "print(JP)"
   ]
  },
  {
   "cell_type": "code",
   "execution_count": 74,
   "metadata": {},
   "outputs": [
    {
     "data": {
      "text/html": [
       "<div>\n",
       "<style scoped>\n",
       "    .dataframe tbody tr th:only-of-type {\n",
       "        vertical-align: middle;\n",
       "    }\n",
       "\n",
       "    .dataframe tbody tr th {\n",
       "        vertical-align: top;\n",
       "    }\n",
       "\n",
       "    .dataframe thead th {\n",
       "        text-align: right;\n",
       "    }\n",
       "</style>\n",
       "<table border=\"1\" class=\"dataframe\">\n",
       "  <thead>\n",
       "    <tr style=\"text-align: right;\">\n",
       "      <th></th>\n",
       "      <th>Rank</th>\n",
       "      <th>Name</th>\n",
       "      <th>Platform</th>\n",
       "      <th>Year</th>\n",
       "      <th>Genre</th>\n",
       "      <th>Publisher</th>\n",
       "      <th>NA_Sales</th>\n",
       "      <th>EU_Sales</th>\n",
       "      <th>JP_Sales</th>\n",
       "      <th>Other_Sales</th>\n",
       "      <th>Global_Sales</th>\n",
       "    </tr>\n",
       "  </thead>\n",
       "  <tbody>\n",
       "    <tr>\n",
       "      <th>16588</th>\n",
       "      <td>16591</td>\n",
       "      <td>Mega Brain Boost</td>\n",
       "      <td>DS</td>\n",
       "      <td>2008.0</td>\n",
       "      <td>Puzzle</td>\n",
       "      <td>Majesco Entertainment</td>\n",
       "      <td>0.01</td>\n",
       "      <td>0.00</td>\n",
       "      <td>0.00</td>\n",
       "      <td>0.0</td>\n",
       "      <td>0.01</td>\n",
       "    </tr>\n",
       "    <tr>\n",
       "      <th>16589</th>\n",
       "      <td>16592</td>\n",
       "      <td>Chou Ezaru wa Akai Hana: Koi wa Tsuki ni Shiru...</td>\n",
       "      <td>PSV</td>\n",
       "      <td>2016.0</td>\n",
       "      <td>Action</td>\n",
       "      <td>dramatic create</td>\n",
       "      <td>0.00</td>\n",
       "      <td>0.00</td>\n",
       "      <td>0.01</td>\n",
       "      <td>0.0</td>\n",
       "      <td>0.01</td>\n",
       "    </tr>\n",
       "    <tr>\n",
       "      <th>16590</th>\n",
       "      <td>16593</td>\n",
       "      <td>Eiyuu Densetsu: Sora no Kiseki Material Collec...</td>\n",
       "      <td>PSP</td>\n",
       "      <td>2007.0</td>\n",
       "      <td>Role-Playing</td>\n",
       "      <td>Falcom Corporation</td>\n",
       "      <td>0.00</td>\n",
       "      <td>0.00</td>\n",
       "      <td>0.01</td>\n",
       "      <td>0.0</td>\n",
       "      <td>0.01</td>\n",
       "    </tr>\n",
       "    <tr>\n",
       "      <th>16591</th>\n",
       "      <td>16594</td>\n",
       "      <td>Myst IV: Revelation</td>\n",
       "      <td>PC</td>\n",
       "      <td>2004.0</td>\n",
       "      <td>Adventure</td>\n",
       "      <td>Ubisoft</td>\n",
       "      <td>0.01</td>\n",
       "      <td>0.00</td>\n",
       "      <td>0.00</td>\n",
       "      <td>0.0</td>\n",
       "      <td>0.01</td>\n",
       "    </tr>\n",
       "    <tr>\n",
       "      <th>16592</th>\n",
       "      <td>16595</td>\n",
       "      <td>Plushees</td>\n",
       "      <td>DS</td>\n",
       "      <td>2008.0</td>\n",
       "      <td>Simulation</td>\n",
       "      <td>Destineer</td>\n",
       "      <td>0.01</td>\n",
       "      <td>0.00</td>\n",
       "      <td>0.00</td>\n",
       "      <td>0.0</td>\n",
       "      <td>0.01</td>\n",
       "    </tr>\n",
       "    <tr>\n",
       "      <th>16593</th>\n",
       "      <td>16596</td>\n",
       "      <td>Woody Woodpecker in Crazy Castle 5</td>\n",
       "      <td>GBA</td>\n",
       "      <td>2002.0</td>\n",
       "      <td>Platform</td>\n",
       "      <td>Kemco</td>\n",
       "      <td>0.01</td>\n",
       "      <td>0.00</td>\n",
       "      <td>0.00</td>\n",
       "      <td>0.0</td>\n",
       "      <td>0.01</td>\n",
       "    </tr>\n",
       "    <tr>\n",
       "      <th>16594</th>\n",
       "      <td>16597</td>\n",
       "      <td>Men in Black II: Alien Escape</td>\n",
       "      <td>GC</td>\n",
       "      <td>2003.0</td>\n",
       "      <td>Shooter</td>\n",
       "      <td>Infogrames</td>\n",
       "      <td>0.01</td>\n",
       "      <td>0.00</td>\n",
       "      <td>0.00</td>\n",
       "      <td>0.0</td>\n",
       "      <td>0.01</td>\n",
       "    </tr>\n",
       "    <tr>\n",
       "      <th>16595</th>\n",
       "      <td>16598</td>\n",
       "      <td>SCORE International Baja 1000: The Official Game</td>\n",
       "      <td>PS2</td>\n",
       "      <td>2008.0</td>\n",
       "      <td>Racing</td>\n",
       "      <td>Activision</td>\n",
       "      <td>0.00</td>\n",
       "      <td>0.00</td>\n",
       "      <td>0.00</td>\n",
       "      <td>0.0</td>\n",
       "      <td>0.01</td>\n",
       "    </tr>\n",
       "    <tr>\n",
       "      <th>16596</th>\n",
       "      <td>16599</td>\n",
       "      <td>Know How 2</td>\n",
       "      <td>DS</td>\n",
       "      <td>2010.0</td>\n",
       "      <td>Puzzle</td>\n",
       "      <td>7G//AMES</td>\n",
       "      <td>0.00</td>\n",
       "      <td>0.01</td>\n",
       "      <td>0.00</td>\n",
       "      <td>0.0</td>\n",
       "      <td>0.01</td>\n",
       "    </tr>\n",
       "    <tr>\n",
       "      <th>16597</th>\n",
       "      <td>16600</td>\n",
       "      <td>Spirits &amp; Spells</td>\n",
       "      <td>GBA</td>\n",
       "      <td>2003.0</td>\n",
       "      <td>Platform</td>\n",
       "      <td>Wanadoo</td>\n",
       "      <td>0.01</td>\n",
       "      <td>0.00</td>\n",
       "      <td>0.00</td>\n",
       "      <td>0.0</td>\n",
       "      <td>0.01</td>\n",
       "    </tr>\n",
       "  </tbody>\n",
       "</table>\n",
       "</div>"
      ],
      "text/plain": [
       "        Rank                                               Name Platform  \\\n",
       "16588  16591                                   Mega Brain Boost       DS   \n",
       "16589  16592  Chou Ezaru wa Akai Hana: Koi wa Tsuki ni Shiru...      PSV   \n",
       "16590  16593  Eiyuu Densetsu: Sora no Kiseki Material Collec...      PSP   \n",
       "16591  16594                                Myst IV: Revelation       PC   \n",
       "16592  16595                                           Plushees       DS   \n",
       "16593  16596                 Woody Woodpecker in Crazy Castle 5      GBA   \n",
       "16594  16597                      Men in Black II: Alien Escape       GC   \n",
       "16595  16598   SCORE International Baja 1000: The Official Game      PS2   \n",
       "16596  16599                                         Know How 2       DS   \n",
       "16597  16600                                   Spirits & Spells      GBA   \n",
       "\n",
       "         Year         Genre              Publisher  NA_Sales  EU_Sales  \\\n",
       "16588  2008.0        Puzzle  Majesco Entertainment      0.01      0.00   \n",
       "16589  2016.0        Action        dramatic create      0.00      0.00   \n",
       "16590  2007.0  Role-Playing     Falcom Corporation      0.00      0.00   \n",
       "16591  2004.0     Adventure                Ubisoft      0.01      0.00   \n",
       "16592  2008.0    Simulation              Destineer      0.01      0.00   \n",
       "16593  2002.0      Platform                  Kemco      0.01      0.00   \n",
       "16594  2003.0       Shooter             Infogrames      0.01      0.00   \n",
       "16595  2008.0        Racing             Activision      0.00      0.00   \n",
       "16596  2010.0        Puzzle               7G//AMES      0.00      0.01   \n",
       "16597  2003.0      Platform                Wanadoo      0.01      0.00   \n",
       "\n",
       "       JP_Sales  Other_Sales  Global_Sales  \n",
       "16588      0.00          0.0          0.01  \n",
       "16589      0.01          0.0          0.01  \n",
       "16590      0.01          0.0          0.01  \n",
       "16591      0.00          0.0          0.01  \n",
       "16592      0.00          0.0          0.01  \n",
       "16593      0.00          0.0          0.01  \n",
       "16594      0.00          0.0          0.01  \n",
       "16595      0.00          0.0          0.01  \n",
       "16596      0.00          0.0          0.01  \n",
       "16597      0.00          0.0          0.01  "
      ]
     },
     "execution_count": 74,
     "metadata": {},
     "output_type": "execute_result"
    }
   ],
   "source": [
    "df.tail(10)"
   ]
  },
  {
   "cell_type": "code",
   "execution_count": 76,
   "metadata": {},
   "outputs": [
    {
     "data": {
      "text/html": [
       "<div>\n",
       "<style scoped>\n",
       "    .dataframe tbody tr th:only-of-type {\n",
       "        vertical-align: middle;\n",
       "    }\n",
       "\n",
       "    .dataframe tbody tr th {\n",
       "        vertical-align: top;\n",
       "    }\n",
       "\n",
       "    .dataframe thead th {\n",
       "        text-align: right;\n",
       "    }\n",
       "</style>\n",
       "<table border=\"1\" class=\"dataframe\">\n",
       "  <thead>\n",
       "    <tr style=\"text-align: right;\">\n",
       "      <th></th>\n",
       "      <th>Rank</th>\n",
       "      <th>Name</th>\n",
       "      <th>Platform</th>\n",
       "      <th>Year</th>\n",
       "      <th>Genre</th>\n",
       "      <th>Publisher</th>\n",
       "      <th>NA_Sales</th>\n",
       "      <th>EU_Sales</th>\n",
       "      <th>JP_Sales</th>\n",
       "      <th>Other_Sales</th>\n",
       "      <th>Global_Sales</th>\n",
       "    </tr>\n",
       "  </thead>\n",
       "  <tbody>\n",
       "    <tr>\n",
       "      <th>0</th>\n",
       "      <td>1</td>\n",
       "      <td>Wii Sports</td>\n",
       "      <td>Wii</td>\n",
       "      <td>2006.0</td>\n",
       "      <td>Sports</td>\n",
       "      <td>Nintendo</td>\n",
       "      <td>41.49</td>\n",
       "      <td>29.02</td>\n",
       "      <td>3.77</td>\n",
       "      <td>8.46</td>\n",
       "      <td>82.74</td>\n",
       "    </tr>\n",
       "    <tr>\n",
       "      <th>1</th>\n",
       "      <td>2</td>\n",
       "      <td>Super Mario Bros.</td>\n",
       "      <td>NES</td>\n",
       "      <td>1985.0</td>\n",
       "      <td>Platform</td>\n",
       "      <td>Nintendo</td>\n",
       "      <td>29.08</td>\n",
       "      <td>3.58</td>\n",
       "      <td>6.81</td>\n",
       "      <td>0.77</td>\n",
       "      <td>40.24</td>\n",
       "    </tr>\n",
       "    <tr>\n",
       "      <th>2</th>\n",
       "      <td>3</td>\n",
       "      <td>Mario Kart Wii</td>\n",
       "      <td>Wii</td>\n",
       "      <td>2008.0</td>\n",
       "      <td>Racing</td>\n",
       "      <td>Nintendo</td>\n",
       "      <td>15.85</td>\n",
       "      <td>12.88</td>\n",
       "      <td>3.79</td>\n",
       "      <td>3.31</td>\n",
       "      <td>35.82</td>\n",
       "    </tr>\n",
       "    <tr>\n",
       "      <th>3</th>\n",
       "      <td>4</td>\n",
       "      <td>Wii Sports Resort</td>\n",
       "      <td>Wii</td>\n",
       "      <td>2009.0</td>\n",
       "      <td>Sports</td>\n",
       "      <td>Nintendo</td>\n",
       "      <td>15.75</td>\n",
       "      <td>11.01</td>\n",
       "      <td>3.28</td>\n",
       "      <td>2.96</td>\n",
       "      <td>33.00</td>\n",
       "    </tr>\n",
       "    <tr>\n",
       "      <th>4</th>\n",
       "      <td>5</td>\n",
       "      <td>Pokemon Red/Pokemon Blue</td>\n",
       "      <td>GB</td>\n",
       "      <td>1996.0</td>\n",
       "      <td>Role-Playing</td>\n",
       "      <td>Nintendo</td>\n",
       "      <td>11.27</td>\n",
       "      <td>8.89</td>\n",
       "      <td>10.22</td>\n",
       "      <td>1.00</td>\n",
       "      <td>31.37</td>\n",
       "    </tr>\n",
       "    <tr>\n",
       "      <th>5</th>\n",
       "      <td>6</td>\n",
       "      <td>Tetris</td>\n",
       "      <td>GB</td>\n",
       "      <td>1989.0</td>\n",
       "      <td>Puzzle</td>\n",
       "      <td>Nintendo</td>\n",
       "      <td>23.20</td>\n",
       "      <td>2.26</td>\n",
       "      <td>4.22</td>\n",
       "      <td>0.58</td>\n",
       "      <td>30.26</td>\n",
       "    </tr>\n",
       "    <tr>\n",
       "      <th>6</th>\n",
       "      <td>7</td>\n",
       "      <td>New Super Mario Bros.</td>\n",
       "      <td>DS</td>\n",
       "      <td>2006.0</td>\n",
       "      <td>Platform</td>\n",
       "      <td>Nintendo</td>\n",
       "      <td>11.38</td>\n",
       "      <td>9.23</td>\n",
       "      <td>6.50</td>\n",
       "      <td>2.90</td>\n",
       "      <td>30.01</td>\n",
       "    </tr>\n",
       "    <tr>\n",
       "      <th>7</th>\n",
       "      <td>8</td>\n",
       "      <td>Wii Play</td>\n",
       "      <td>Wii</td>\n",
       "      <td>2006.0</td>\n",
       "      <td>Misc</td>\n",
       "      <td>Nintendo</td>\n",
       "      <td>14.03</td>\n",
       "      <td>9.20</td>\n",
       "      <td>2.93</td>\n",
       "      <td>2.85</td>\n",
       "      <td>29.02</td>\n",
       "    </tr>\n",
       "    <tr>\n",
       "      <th>8</th>\n",
       "      <td>9</td>\n",
       "      <td>New Super Mario Bros. Wii</td>\n",
       "      <td>Wii</td>\n",
       "      <td>2009.0</td>\n",
       "      <td>Platform</td>\n",
       "      <td>Nintendo</td>\n",
       "      <td>14.59</td>\n",
       "      <td>7.06</td>\n",
       "      <td>4.70</td>\n",
       "      <td>2.26</td>\n",
       "      <td>28.62</td>\n",
       "    </tr>\n",
       "    <tr>\n",
       "      <th>9</th>\n",
       "      <td>10</td>\n",
       "      <td>Duck Hunt</td>\n",
       "      <td>NES</td>\n",
       "      <td>1984.0</td>\n",
       "      <td>Shooter</td>\n",
       "      <td>Nintendo</td>\n",
       "      <td>26.93</td>\n",
       "      <td>0.63</td>\n",
       "      <td>0.28</td>\n",
       "      <td>0.47</td>\n",
       "      <td>28.31</td>\n",
       "    </tr>\n",
       "  </tbody>\n",
       "</table>\n",
       "</div>"
      ],
      "text/plain": [
       "   Rank                       Name Platform    Year         Genre Publisher  \\\n",
       "0     1                 Wii Sports      Wii  2006.0        Sports  Nintendo   \n",
       "1     2          Super Mario Bros.      NES  1985.0      Platform  Nintendo   \n",
       "2     3             Mario Kart Wii      Wii  2008.0        Racing  Nintendo   \n",
       "3     4          Wii Sports Resort      Wii  2009.0        Sports  Nintendo   \n",
       "4     5   Pokemon Red/Pokemon Blue       GB  1996.0  Role-Playing  Nintendo   \n",
       "5     6                     Tetris       GB  1989.0        Puzzle  Nintendo   \n",
       "6     7      New Super Mario Bros.       DS  2006.0      Platform  Nintendo   \n",
       "7     8                   Wii Play      Wii  2006.0          Misc  Nintendo   \n",
       "8     9  New Super Mario Bros. Wii      Wii  2009.0      Platform  Nintendo   \n",
       "9    10                  Duck Hunt      NES  1984.0       Shooter  Nintendo   \n",
       "\n",
       "   NA_Sales  EU_Sales  JP_Sales  Other_Sales  Global_Sales  \n",
       "0     41.49     29.02      3.77         8.46         82.74  \n",
       "1     29.08      3.58      6.81         0.77         40.24  \n",
       "2     15.85     12.88      3.79         3.31         35.82  \n",
       "3     15.75     11.01      3.28         2.96         33.00  \n",
       "4     11.27      8.89     10.22         1.00         31.37  \n",
       "5     23.20      2.26      4.22         0.58         30.26  \n",
       "6     11.38      9.23      6.50         2.90         30.01  \n",
       "7     14.03      9.20      2.93         2.85         29.02  \n",
       "8     14.59      7.06      4.70         2.26         28.62  \n",
       "9     26.93      0.63      0.28         0.47         28.31  "
      ]
     },
     "execution_count": 76,
     "metadata": {},
     "output_type": "execute_result"
    }
   ],
   "source": [
    "df.head(10)"
   ]
  },
  {
   "cell_type": "code",
   "execution_count": null,
   "metadata": {},
   "outputs": [],
   "source": [
    "global_sales= groupby()"
   ]
  },
  {
   "cell_type": "code",
   "execution_count": null,
   "metadata": {},
   "outputs": [],
   "source": []
  }
 ],
 "metadata": {
  "colab": {
   "provenance": []
  },
  "kernelspec": {
   "display_name": "Python 3 (ipykernel)",
   "language": "python",
   "name": "python3"
  },
  "language_info": {
   "codemirror_mode": {
    "name": "ipython",
    "version": 3
   },
   "file_extension": ".py",
   "mimetype": "text/x-python",
   "name": "python",
   "nbconvert_exporter": "python",
   "pygments_lexer": "ipython3",
   "version": "3.11.5"
  }
 },
 "nbformat": 4,
 "nbformat_minor": 1
}
